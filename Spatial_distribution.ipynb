{
 "cells": [
  {
   "cell_type": "code",
   "execution_count": 1,
   "metadata": {
    "collapsed": true
   },
   "outputs": [],
   "source": [
    "import pandas as pd\n",
    "import numpy as np\n",
    "import matplotlib.pyplot as plt\n",
    "import yaml # If you don't have this package use 'pip install pyyaml' into commandline or terminal\n",
    "# Matplotlib Config\n",
    "%matplotlib inline\n",
    "plt.style.use('fivethirtyeight')\n",
    "# Turn 'building.yaml' file into a python dictionary using PyYAML \n",
    "with open('building.yaml') as f:\n",
    "    building_data = f.read()\n",
    "    building_data = yaml.load(building_data)\n",
    "    f.close()\n",
    "building = pd.DataFrame(building_data) #building contains only two rows out of which only one(first one) contains actual info\n",
    "building = pd.DataFrame(building['building1'][0])\n",
    "    \n",
    "### Column Names for our dataframe\n",
    "col_names = ['sec', \n",
    "             'agent_id',\n",
    "             'agent_type',\n",
    "             'has_luggage',\n",
    "             'is_disabled',\n",
    "             'X', \n",
    "             'Y',\n",
    "             'Z',\n",
    "             'velocity',\n",
    "             'queue_id',\n",
    "             'lookUp_X',\n",
    "             'lookUp_Y']\n",
    "df1 = pd.read_csv('Agents/thread_0.txt', header=0, names=col_names)\n",
    "df2 = pd.read_csv('Agents/thread_1.txt', header=0, names=col_names)\n",
    "df3 = pd.read_csv('Agents/thread_2.txt', header=0, names=col_names)\n",
    "df4 = pd.read_csv('Agents/thread_3.txt', header=0, names=col_names)\n",
    "df5 = pd.read_csv('Agents/thread_4.txt', header=0, names=col_names)\n",
    "df6 = pd.read_csv('Agents/thread_5.txt', header=0, names=col_names)\n",
    "df7 = pd.read_csv('Agents/thread_6.txt', header=0, names=col_names)\n",
    "df8 = pd.read_csv('Agents/thread_7.txt', header=0, names=col_names)\n",
    "\n",
    "frames = [df1,df2,df3,df4,df5,df6,df7,df8]\n",
    "df = pd.concat(frames)"
   ]
  },
  {
   "cell_type": "code",
   "execution_count": 2,
   "metadata": {
    "collapsed": false
   },
   "outputs": [],
   "source": [
    "#list of all x,y and z points in the building\n",
    "x_list = []\n",
    "y_list = []\n",
    "z_list = []\n",
    "for i in building.iterrows():\n",
    "    if i[1]['collision_geometry']['type'] == 'polygon':\n",
    "        coordinates = i[1]['collision_geometry']['triangles']\n",
    "    elif i[1]['collision_geometry']['type'] == 'box':\n",
    "        coordinates = i[1]['config']['position']\n",
    "    x_list += coordinates[::3]\n",
    "    y_list += coordinates[1::3]\n",
    "    z_list += coordinates[2::3] \n",
    "#there are 33584 x,y,z coordinates from the building file"
   ]
  },
  {
   "cell_type": "code",
   "execution_count": 3,
   "metadata": {
    "collapsed": false
   },
   "outputs": [
    {
     "data": {
      "text/plain": [
       "(281.15, 153.35, 25.5)"
      ]
     },
     "execution_count": 3,
     "metadata": {},
     "output_type": "execute_result"
    }
   ],
   "source": [
    "max_point = (max(x_list),max(y_list),max(z_list))\n",
    "min_point = (min(x_list),min(y_list),min(z_list))\n",
    "(max_point[0] - min_point[0],max_point[1] - min_point[1],max_point[2] - min_point[2])"
   ]
  },
  {
   "cell_type": "code",
   "execution_count": 4,
   "metadata": {
    "collapsed": false
   },
   "outputs": [
    {
     "data": {
      "text/plain": [
       "(3830209, 12)"
      ]
     },
     "execution_count": 4,
     "metadata": {},
     "output_type": "execute_result"
    }
   ],
   "source": [
    "agents = df[df['Z']>=0] #taking only the points which have positive Z value\n",
    "agents.shape"
   ]
  },
  {
   "cell_type": "code",
   "execution_count": 5,
   "metadata": {
    "collapsed": false
   },
   "outputs": [
    {
     "data": {
      "text/html": [
       "<div>\n",
       "<style>\n",
       "    .dataframe thead tr:only-child th {\n",
       "        text-align: right;\n",
       "    }\n",
       "\n",
       "    .dataframe thead th {\n",
       "        text-align: left;\n",
       "    }\n",
       "\n",
       "    .dataframe tbody tr th {\n",
       "        vertical-align: top;\n",
       "    }\n",
       "</style>\n",
       "<table border=\"1\" class=\"dataframe\">\n",
       "  <thead>\n",
       "    <tr style=\"text-align: right;\">\n",
       "      <th></th>\n",
       "      <th>sec</th>\n",
       "      <th>agent_id</th>\n",
       "      <th>agent_type</th>\n",
       "      <th>has_luggage</th>\n",
       "      <th>is_disabled</th>\n",
       "      <th>X</th>\n",
       "      <th>Y</th>\n",
       "      <th>Z</th>\n",
       "      <th>velocity</th>\n",
       "      <th>queue_id</th>\n",
       "      <th>lookUp_X</th>\n",
       "      <th>lookUp_Y</th>\n",
       "    </tr>\n",
       "  </thead>\n",
       "  <tbody>\n",
       "    <tr>\n",
       "      <th>0</th>\n",
       "      <td>70201</td>\n",
       "      <td>0</td>\n",
       "      <td>4</td>\n",
       "      <td>0.0</td>\n",
       "      <td>0.0</td>\n",
       "      <td>105.955</td>\n",
       "      <td>20.712</td>\n",
       "      <td>7.0</td>\n",
       "      <td>0.586</td>\n",
       "      <td>-1.0</td>\n",
       "      <td>105.500</td>\n",
       "      <td>22.130</td>\n",
       "    </tr>\n",
       "    <tr>\n",
       "      <th>1</th>\n",
       "      <td>70201</td>\n",
       "      <td>8</td>\n",
       "      <td>4</td>\n",
       "      <td>0.0</td>\n",
       "      <td>0.0</td>\n",
       "      <td>82.995</td>\n",
       "      <td>14.989</td>\n",
       "      <td>1.0</td>\n",
       "      <td>0.720</td>\n",
       "      <td>-1.0</td>\n",
       "      <td>83.495</td>\n",
       "      <td>18.265</td>\n",
       "    </tr>\n",
       "    <tr>\n",
       "      <th>2</th>\n",
       "      <td>70201</td>\n",
       "      <td>16</td>\n",
       "      <td>1</td>\n",
       "      <td>0.0</td>\n",
       "      <td>0.0</td>\n",
       "      <td>49.066</td>\n",
       "      <td>-72.638</td>\n",
       "      <td>1.0</td>\n",
       "      <td>0.737</td>\n",
       "      <td>-1.0</td>\n",
       "      <td>49.822</td>\n",
       "      <td>-72.954</td>\n",
       "    </tr>\n",
       "    <tr>\n",
       "      <th>3</th>\n",
       "      <td>70201</td>\n",
       "      <td>24</td>\n",
       "      <td>1</td>\n",
       "      <td>0.0</td>\n",
       "      <td>0.0</td>\n",
       "      <td>111.617</td>\n",
       "      <td>28.309</td>\n",
       "      <td>10.0</td>\n",
       "      <td>2.944</td>\n",
       "      <td>-1.0</td>\n",
       "      <td>108.060</td>\n",
       "      <td>30.175</td>\n",
       "    </tr>\n",
       "    <tr>\n",
       "      <th>4</th>\n",
       "      <td>70201</td>\n",
       "      <td>32</td>\n",
       "      <td>1</td>\n",
       "      <td>0.0</td>\n",
       "      <td>0.0</td>\n",
       "      <td>108.920</td>\n",
       "      <td>34.867</td>\n",
       "      <td>4.0</td>\n",
       "      <td>1.386</td>\n",
       "      <td>-1.0</td>\n",
       "      <td>103.980</td>\n",
       "      <td>32.855</td>\n",
       "    </tr>\n",
       "  </tbody>\n",
       "</table>\n",
       "</div>"
      ],
      "text/plain": [
       "     sec  agent_id  agent_type  has_luggage  is_disabled        X       Y  \\\n",
       "0  70201         0           4          0.0          0.0  105.955  20.712   \n",
       "1  70201         8           4          0.0          0.0   82.995  14.989   \n",
       "2  70201        16           1          0.0          0.0   49.066 -72.638   \n",
       "3  70201        24           1          0.0          0.0  111.617  28.309   \n",
       "4  70201        32           1          0.0          0.0  108.920  34.867   \n",
       "\n",
       "      Z  velocity  queue_id  lookUp_X  lookUp_Y  \n",
       "0   7.0     0.586      -1.0   105.500    22.130  \n",
       "1   1.0     0.720      -1.0    83.495    18.265  \n",
       "2   1.0     0.737      -1.0    49.822   -72.954  \n",
       "3  10.0     2.944      -1.0   108.060    30.175  \n",
       "4   4.0     1.386      -1.0   103.980    32.855  "
      ]
     },
     "execution_count": 5,
     "metadata": {},
     "output_type": "execute_result"
    }
   ],
   "source": [
    "agents.head()"
   ]
  },
  {
   "cell_type": "code",
   "execution_count": 137,
   "metadata": {
    "collapsed": false
   },
   "outputs": [
    {
     "name": "stdout",
     "output_type": "stream",
     "text": [
      "(-139.15, 142.001) (-78.41, 74.941) (0.0, 25.5)\n"
     ]
    }
   ],
   "source": [
    "xlimt = (min_point[0],max_point[0]+0.001)\n",
    "ylimt = (min_point[1],max_point[1]+0.001)\n",
    "zlimt = (min_point[2],max_point[2])\n",
    "print(xlimt,ylimt,zlimt)"
   ]
  },
  {
   "cell_type": "code",
   "execution_count": 263,
   "metadata": {
    "collapsed": true
   },
   "outputs": [],
   "source": [
    "import unittest        \n",
    "class TreeNode:\n",
    "    def __init__(self,agents,xlim,ylim,zlim,parent=None,left=None,right=None): #agents is a pandas df\n",
    "        self.xlim = xlim\n",
    "        self.ylim = ylim\n",
    "        self.zlim = zlim #each xlim,ylim and zlim is a tuple denoting limits on each axis\n",
    "        self.parent = parent\n",
    "        self.count = self.get_count(agents) #count gets the number of agents for each node\n",
    "        self.traffic_density = self.get_density()\n",
    "        self.leftChild = left\n",
    "        self.rightChild = right\n",
    "        self.weight = None\n",
    "            \n",
    "    def get_count(self,agents): #gets the number of agents within the x,y and z limits\n",
    "        c = agents[(agents['X']>=self.xlim[0]) & (agents['X']<self.xlim[1]) & (agents['Y']>=self.ylim[0]) & (agents['Y']<self.ylim[1]) & (agents['Z']>=self.zlim[0]) & (agents['Z']<self.zlim[1])].shape[0]\n",
    "        return c\n",
    "    \n",
    "    def get_density(self):  #calculates the space usage per sq. area\n",
    "        if self.count:\n",
    "            x = self.xlim[1]-self.xlim[0] #using only x and y axis for area calculation\n",
    "            y = self.ylim[1]-self.ylim[0]\n",
    "            z = self.zlim[1]-self.zlim[0]\n",
    "            volume = (x*y)*z\n",
    "            return round(self.count/volume,2)\n",
    "        return None\n",
    "    \n",
    "    def split(self,agents,axis): #axis should be either 'x' or 'y' or 'z'\n",
    "        if axis == 'x':\n",
    "            mp = round((self.xlim[0]+self.xlim[1])/2,3)  #mp is mid point\n",
    "            l_xlim = (self.xlim[0],mp)   #l_xlim is lower_x_limit\n",
    "            u_xlim = (mp,self.xlim[1])   #u_xlim is upper_x_limit\n",
    "            self.leftChild = TreeNode(agents,l_xlim,self.ylim,self.zlim,parent = self)\n",
    "            self.rightChild = TreeNode(agents,u_xlim,self.ylim,self.zlim,parent = self)\n",
    "        elif axis == 'y':\n",
    "            mp = round((self.ylim[0]+self.ylim[1])/2,3)\n",
    "            l_ylim = (self.ylim[0],mp)\n",
    "            u_ylim = (mp,self.ylim[1])\n",
    "            self.leftChild = TreeNode(agents,self.xlim,l_ylim,self.zlim,parent = self)\n",
    "            self.rightChild = TreeNode(agents,self.xlim,u_ylim,self.zlim,parent = self)\n",
    "        elif axis == 'z':\n",
    "            mp = round((self.zlim[0]+self.zlim[1])/2,1)\n",
    "            l_zlim = (self.zlim[0],mp)\n",
    "            u_zlim = (mp,self.zlim[1])\n",
    "            self.leftChild = TreeNode(agents,self.xlim,self.ylim,l_zlim,parent = self)\n",
    "            self.rightChild = TreeNode(agents,self.xlim,self.ylim,u_zlim,parent = self)\n",
    "\n",
    "        return [x for x in [self.leftChild,self.rightChild] if x.count]\n",
    "    \n",
    "    def __str__(self):\n",
    "        s = \"Agent Traffic in node : \" + str(self.count)\n",
    "        s += \"\\n\" + \"X : \" + str(self.xlim) + \"\\n\" + \"Y : \" + str(self.ylim) + \"\\n\" + \"Z : \" + str(self.zlim) + \"\\n\" \n",
    "        s += \"Traffic Density : \" + str(self.traffic_density) + \" usage/cu.volume\" + \"\\n\" \n",
    "        s += \"Node Weight : \" + str(self.weight) + \"\\n\"\n",
    "        return s"
   ]
  },
  {
   "cell_type": "code",
   "execution_count": 264,
   "metadata": {
    "collapsed": false
   },
   "outputs": [
    {
     "name": "stdout",
     "output_type": "stream",
     "text": [
      "Agent Traffic in node : 3830203\n",
      "X : (-139.15, 142.001)\n",
      "Y : (-78.41, 74.941)\n",
      "Z : (0.0, 25.5)\n",
      "Traffic Density : 3.48 usage/cu.volume\n",
      "Node Weight : None\n",
      "\n"
     ]
    }
   ],
   "source": [
    "#root initialization\n",
    "root = TreeNode(agents,xlimt,ylimt,zlimt)  #pass the whole building limits and whole set of agents data into root\n",
    "print(root)"
   ]
  },
  {
   "cell_type": "code",
   "execution_count": 265,
   "metadata": {
    "collapsed": true
   },
   "outputs": [],
   "source": [
    "#recursive code to split building spatially\n",
    "def building_split(node):\n",
    "    if node.count < 20000: #this parameter can control the depth of the tree\n",
    "        return node\n",
    "    if node.zlim[1]-node.zlim[0] > 2: #check for this bcoz after a few levels z split wont be needed\n",
    "        for i in node.split(agents,'z'):\n",
    "            for j in i.split(agents,'x'):\n",
    "                for k in j.split(agents,'y'):\n",
    "                    building_split(k) #recursion call\n",
    "    elif node.xlim[1]-node.xlim[0] > 20: #this parameter can control the node volume\n",
    "        for j in node.split(agents,'x'):\n",
    "            for k in j.split(agents,'y'):\n",
    "                building_split(k) #recursion call\n",
    "    return node"
   ]
  },
  {
   "cell_type": "code",
   "execution_count": 266,
   "metadata": {
    "collapsed": false
   },
   "outputs": [
    {
     "data": {
      "text/plain": [
       "<__main__.TreeNode at 0x21f69e2f358>"
      ]
     },
     "execution_count": 266,
     "metadata": {},
     "output_type": "execute_result"
    }
   ],
   "source": [
    "#function call - runs for a long time - about 10 minutes\n",
    "building_split(root)"
   ]
  },
  {
   "cell_type": "code",
   "execution_count": 273,
   "metadata": {
    "collapsed": false
   },
   "outputs": [],
   "source": [
    "#After the recursive code to split the root is done, root now represents a TREE\n",
    "#this code is to find out the properties of the tree\n",
    "import unittest\n",
    "class btree:\n",
    "    def __init__(self,root): #root can be root of any tree or subtree\n",
    "        self.root = root\n",
    "        self.height,self.no_of_nodes = self.get_height() \n",
    "    \n",
    "    def get_height(self): #get height and total no of non-zero nodes in the tree\n",
    "        node_list = [self.root]\n",
    "        child_list = []\n",
    "        nodes,height = 1,0\n",
    "        while node_list:\n",
    "            for i in node_list:\n",
    "                child_list.extend((i.leftChild,i.rightChild))\n",
    "            node_list = [x for x in child_list if x is not None and x.count]\n",
    "            child_list = []\n",
    "            nodes += len(node_list)\n",
    "            if node_list:\n",
    "                height += 1 \n",
    "        return (height,nodes)\n",
    "    \n",
    "    def add_weights(self): #only non-leaf nodes will have weights. Leaf nodes will have None weight\n",
    "        node_list = [self.root]\n",
    "        child_list = []\n",
    "        for i in range(self.height-1):\n",
    "            for j in node_list:\n",
    "                if (j.leftChild or j.rightChild) and (j.leftChild.count or j.rightChild.count):\n",
    "                    w = round((j.leftChild.count - j.rightChild.count)/(j.leftChild.count + j.rightChild.count),2)\n",
    "                    j.weight = w\n",
    "                child_list.extend((j.leftChild,j.rightChild))\n",
    "            node_list = [x for x in child_list if x is not None and x.count]\n",
    "            child_list = []     \n",
    "    \n",
    "    def get_nodes_at_depth(self,depth): #returns the list of nodes at given depth\n",
    "        node_list = [self.root]\n",
    "        child_list = []\n",
    "        for i in range(depth):\n",
    "            for j in node_list:\n",
    "                child_list.extend((j.leftChild,j.rightChild))\n",
    "            node_list = [x for x in child_list if x is not None and x.count]\n",
    "            child_list = []\n",
    "        print(\"The number of occupied nodes at this level is \" + str(len(node_list)) + '\\n')\n",
    "        return node_list\n",
    "    \n",
    "    def __str__(self):\n",
    "        s = \"This is a binary tree with a height of \" + str(self.height) + \"\\n\"\n",
    "        s += \"The number of non-zero nodes in the tree is \" + str(self.no_of_nodes) + \"\\n\"\n",
    "        return s"
   ]
  },
  {
   "cell_type": "code",
   "execution_count": 278,
   "metadata": {
    "collapsed": false
   },
   "outputs": [
    {
     "name": "stdout",
     "output_type": "stream",
     "text": [
      "Agent Traffic in node : 3830203\n",
      "X : (-139.15, 142.001)\n",
      "Y : (-78.41, 74.941)\n",
      "Z : (0.0, 25.5)\n",
      "Traffic Density : 3.48 usage/cu.volume\n",
      "Node Weight : 0.62\n",
      "\n",
      "This is a binary tree with a height of 12\n",
      "The number of non-zero nodes in the tree is 1008\n",
      "\n"
     ]
    }
   ],
   "source": [
    "sim1 = btree(root) #tree for agent simulation 1 \n",
    "print(sim1.root)\n",
    "print(sim1)\n",
    "sim1.add_weights()"
   ]
  },
  {
   "cell_type": "code",
   "execution_count": 280,
   "metadata": {
    "collapsed": false
   },
   "outputs": [
    {
     "name": "stdout",
     "output_type": "stream",
     "text": [
      "The number of occupied nodes at this level is 22\n",
      "\n",
      "Agent Traffic in node : 32449\n",
      "X : (-139.15, -68.862)\n",
      "Y : (-78.41, -1.734)\n",
      "Z : (0.0, 6.4)\n",
      "Traffic Density : 0.94 usage/cu.volume\n",
      "Node Weight : -0.59\n",
      "\n",
      "Agent Traffic in node : 68243\n",
      "X : (-68.862, 1.425)\n",
      "Y : (-78.41, -1.734)\n",
      "Z : (0.0, 6.4)\n",
      "Traffic Density : 1.98 usage/cu.volume\n",
      "Node Weight : 0.05\n",
      "\n",
      "Agent Traffic in node : 42462\n",
      "X : (-139.15, -68.862)\n",
      "Y : (-78.41, -1.734)\n",
      "Z : (6.4, 12.8)\n",
      "Traffic Density : 1.23 usage/cu.volume\n",
      "Node Weight : -0.54\n",
      "\n",
      "Agent Traffic in node : 504355\n",
      "X : (-68.862, 1.425)\n",
      "Y : (-78.41, -1.734)\n",
      "Z : (6.4, 12.8)\n",
      "Traffic Density : 14.62 usage/cu.volume\n",
      "Node Weight : 0.6\n",
      "\n",
      "Agent Traffic in node : 220713\n",
      "X : (1.425, 71.713)\n",
      "Y : (-78.41, -1.734)\n",
      "Z : (0.0, 6.4)\n",
      "Traffic Density : 6.4 usage/cu.volume\n",
      "Node Weight : -0.29\n",
      "\n",
      "Agent Traffic in node : 204223\n",
      "X : (71.713, 142.001)\n",
      "Y : (-78.41, -1.734)\n",
      "Z : (0.0, 6.4)\n",
      "Traffic Density : 5.92 usage/cu.volume\n",
      "Node Weight : -0.69\n",
      "\n",
      "Agent Traffic in node : 730747\n",
      "X : (1.425, 71.713)\n",
      "Y : (-78.41, -1.734)\n",
      "Z : (6.4, 12.8)\n",
      "Traffic Density : 21.19 usage/cu.volume\n",
      "Node Weight : 0.16\n",
      "\n",
      "Agent Traffic in node : 384297\n",
      "X : (71.713, 142.001)\n",
      "Y : (-78.41, -1.734)\n",
      "Z : (6.4, 12.8)\n",
      "Traffic Density : 11.14 usage/cu.volume\n",
      "Node Weight : 0.37\n",
      "\n",
      "Agent Traffic in node : 130125\n",
      "X : (1.425, 71.713)\n",
      "Y : (-1.734, 74.941)\n",
      "Z : (0.0, 6.4)\n",
      "Traffic Density : 3.77 usage/cu.volume\n",
      "Node Weight : -0.04\n",
      "\n",
      "Agent Traffic in node : 347543\n",
      "X : (71.713, 142.001)\n",
      "Y : (-1.734, 74.941)\n",
      "Z : (0.0, 6.4)\n",
      "Traffic Density : 10.08 usage/cu.volume\n",
      "Node Weight : 0.55\n",
      "\n",
      "Agent Traffic in node : 211361\n",
      "X : (1.425, 71.713)\n",
      "Y : (-1.734, 74.941)\n",
      "Z : (6.4, 12.8)\n",
      "Traffic Density : 6.13 usage/cu.volume\n",
      "Node Weight : 0.68\n",
      "\n",
      "Agent Traffic in node : 232292\n",
      "X : (71.713, 142.001)\n",
      "Y : (-1.734, 74.941)\n",
      "Z : (6.4, 12.8)\n",
      "Traffic Density : 6.73 usage/cu.volume\n",
      "Node Weight : 0.59\n",
      "\n",
      "Agent Traffic in node : 98378\n",
      "X : (-139.15, -68.862)\n",
      "Y : (-78.41, -1.734)\n",
      "Z : (12.8, 19.1)\n",
      "Traffic Density : 2.9 usage/cu.volume\n",
      "Node Weight : -0.04\n",
      "\n",
      "Agent Traffic in node : 118001\n",
      "X : (-68.862, 1.425)\n",
      "Y : (-78.41, -1.734)\n",
      "Z : (12.8, 19.1)\n",
      "Traffic Density : 3.48 usage/cu.volume\n",
      "Node Weight : 0.3\n",
      "\n",
      "Agent Traffic in node : 13\n",
      "X : (-139.15, -68.862)\n",
      "Y : (-78.41, -1.734)\n",
      "Z : (19.1, 25.5)\n",
      "Traffic Density : 0.0 usage/cu.volume\n",
      "Node Weight : 1.0\n",
      "\n",
      "Agent Traffic in node : 111\n",
      "X : (-68.862, 1.425)\n",
      "Y : (-78.41, -1.734)\n",
      "Z : (19.1, 25.5)\n",
      "Traffic Density : 0.0 usage/cu.volume\n",
      "Node Weight : 1.0\n",
      "\n",
      "Agent Traffic in node : 93069\n",
      "X : (1.425, 71.713)\n",
      "Y : (-78.41, -1.734)\n",
      "Z : (12.8, 19.1)\n",
      "Traffic Density : 2.74 usage/cu.volume\n",
      "Node Weight : 0.55\n",
      "\n",
      "Agent Traffic in node : 56039\n",
      "X : (71.713, 142.001)\n",
      "Y : (-78.41, -1.734)\n",
      "Z : (12.8, 19.1)\n",
      "Traffic Density : 1.65 usage/cu.volume\n",
      "Node Weight : 0.84\n",
      "\n",
      "Agent Traffic in node : 2961\n",
      "X : (71.713, 142.001)\n",
      "Y : (-78.41, -1.734)\n",
      "Z : (19.1, 25.5)\n",
      "Traffic Density : 0.09 usage/cu.volume\n",
      "Node Weight : 1.0\n",
      "\n",
      "Agent Traffic in node : 179272\n",
      "X : (1.425, 71.713)\n",
      "Y : (-1.734, 74.941)\n",
      "Z : (12.8, 19.1)\n",
      "Traffic Density : 5.28 usage/cu.volume\n",
      "Node Weight : 0.62\n",
      "\n",
      "Agent Traffic in node : 173537\n",
      "X : (71.713, 142.001)\n",
      "Y : (-1.734, 74.941)\n",
      "Z : (12.8, 19.1)\n",
      "Traffic Density : 5.11 usage/cu.volume\n",
      "Node Weight : 0.17\n",
      "\n",
      "Agent Traffic in node : 12\n",
      "X : (1.425, 71.713)\n",
      "Y : (-1.734, 74.941)\n",
      "Z : (19.1, 25.5)\n",
      "Traffic Density : 0.0 usage/cu.volume\n",
      "Node Weight : 1.0\n",
      "\n"
     ]
    }
   ],
   "source": [
    "for i in sim1.get_nodes_at_depth(12):\n",
    "    print(i)"
   ]
  },
  {
   "cell_type": "code",
   "execution_count": null,
   "metadata": {
    "collapsed": true
   },
   "outputs": [],
   "source": []
  }
 ],
 "metadata": {
  "anaconda-cloud": {},
  "kernelspec": {
   "display_name": "Python [conda root]",
   "language": "python",
   "name": "conda-root-py"
  },
  "language_info": {
   "codemirror_mode": {
    "name": "ipython",
    "version": 3
   },
   "file_extension": ".py",
   "mimetype": "text/x-python",
   "name": "python",
   "nbconvert_exporter": "python",
   "pygments_lexer": "ipython3",
   "version": "3.5.2"
  }
 },
 "nbformat": 4,
 "nbformat_minor": 1
}

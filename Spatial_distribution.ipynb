{
 "cells": [
  {
   "cell_type": "code",
   "execution_count": 139,
   "metadata": {
    "collapsed": true
   },
   "outputs": [],
   "source": [
    "import pandas as pd\n",
    "import numpy as np\n",
    "import matplotlib.pyplot as plt\n",
    "import yaml # If you don't have this package use 'pip install pyyaml' into commandline or terminal\n",
    "# Matplotlib Config\n",
    "%matplotlib inline\n",
    "plt.style.use('fivethirtyeight')\n",
    "# Turn 'building.yaml' file into a python dictionary using PyYAML \n",
    "with open('building.yaml') as f:\n",
    "    building_data = f.read()\n",
    "    building_data = yaml.load(building_data)\n",
    "    f.close()\n",
    "building = pd.DataFrame(building_data) #building contains only two rows out of which only one(first one) contains actual info\n",
    "building = pd.DataFrame(building['building1'][0])\n",
    "    \n",
    "### Column Names for our dataframe\n",
    "col_names = ['sec', \n",
    "             'agent_id',\n",
    "             'agent_type',\n",
    "             'has_luggage',\n",
    "             'is_disabled',\n",
    "             'X', \n",
    "             'Y',\n",
    "             'Z',\n",
    "             'velocity',\n",
    "             'queue_id',\n",
    "             'lookUp_X',\n",
    "             'lookUp_Y']\n",
    "df1 = pd.read_csv('Agents/thread_0.txt', header=0, names=col_names)\n",
    "df2 = pd.read_csv('Agents/thread_1.txt', header=0, names=col_names)\n",
    "df3 = pd.read_csv('Agents/thread_2.txt', header=0, names=col_names)\n",
    "df4 = pd.read_csv('Agents/thread_3.txt', header=0, names=col_names)\n",
    "df5 = pd.read_csv('Agents/thread_4.txt', header=0, names=col_names)\n",
    "df6 = pd.read_csv('Agents/thread_5.txt', header=0, names=col_names)\n",
    "df7 = pd.read_csv('Agents/thread_6.txt', header=0, names=col_names)\n",
    "df8 = pd.read_csv('Agents/thread_7.txt', header=0, names=col_names)\n",
    "\n",
    "frames = [df1,df2,df3,df4,df5,df6,df7,df8]\n",
    "df = pd.concat(frames)"
   ]
  },
  {
   "cell_type": "code",
   "execution_count": 140,
   "metadata": {
    "collapsed": false
   },
   "outputs": [],
   "source": [
    "#list of all x,y and z points in the building\n",
    "x_list = []\n",
    "y_list = []\n",
    "z_list = []\n",
    "for i in building.iterrows():\n",
    "    if i[1]['collision_geometry']['type'] == 'polygon':\n",
    "        coordinates = i[1]['collision_geometry']['triangles']\n",
    "    if i[1]['collision_geometry']['type'] == 'box':\n",
    "        coordinates = i[1]['config']['position']\n",
    "    x_list += coordinates[::3]\n",
    "    y_list += coordinates[1::3]\n",
    "    z_list += coordinates[2::3] \n",
    "#there are 33584 x,y,z coordinates from the building file"
   ]
  },
  {
   "cell_type": "code",
   "execution_count": 141,
   "metadata": {
    "collapsed": false
   },
   "outputs": [
    {
     "data": {
      "text/plain": [
       "(281.15, 153.35, 25.5)"
      ]
     },
     "execution_count": 141,
     "metadata": {},
     "output_type": "execute_result"
    }
   ],
   "source": [
    "max_point = (max(x_list),max(y_list),max(z_list))\n",
    "min_point = (min(x_list),min(y_list),min(z_list))\n",
    "(max_point[0] - min_point[0],max_point[1] - min_point[1],max_point[2] - min_point[2])"
   ]
  },
  {
   "cell_type": "code",
   "execution_count": 142,
   "metadata": {
    "collapsed": false
   },
   "outputs": [
    {
     "data": {
      "text/plain": [
       "(3830209, 12)"
      ]
     },
     "execution_count": 142,
     "metadata": {},
     "output_type": "execute_result"
    }
   ],
   "source": [
    "agents = df[df['Z']>=0] #taking only the points which have positive Z value\n",
    "agents.shape"
   ]
  },
  {
   "cell_type": "code",
   "execution_count": 143,
   "metadata": {
    "collapsed": false
   },
   "outputs": [
    {
     "data": {
      "text/html": [
       "<div>\n",
       "<style>\n",
       "    .dataframe thead tr:only-child th {\n",
       "        text-align: right;\n",
       "    }\n",
       "\n",
       "    .dataframe thead th {\n",
       "        text-align: left;\n",
       "    }\n",
       "\n",
       "    .dataframe tbody tr th {\n",
       "        vertical-align: top;\n",
       "    }\n",
       "</style>\n",
       "<table border=\"1\" class=\"dataframe\">\n",
       "  <thead>\n",
       "    <tr style=\"text-align: right;\">\n",
       "      <th></th>\n",
       "      <th>sec</th>\n",
       "      <th>agent_id</th>\n",
       "      <th>agent_type</th>\n",
       "      <th>has_luggage</th>\n",
       "      <th>is_disabled</th>\n",
       "      <th>X</th>\n",
       "      <th>Y</th>\n",
       "      <th>Z</th>\n",
       "      <th>velocity</th>\n",
       "      <th>queue_id</th>\n",
       "      <th>lookUp_X</th>\n",
       "      <th>lookUp_Y</th>\n",
       "    </tr>\n",
       "  </thead>\n",
       "  <tbody>\n",
       "    <tr>\n",
       "      <th>0</th>\n",
       "      <td>70201</td>\n",
       "      <td>0</td>\n",
       "      <td>4</td>\n",
       "      <td>0.0</td>\n",
       "      <td>0.0</td>\n",
       "      <td>105.955</td>\n",
       "      <td>20.712</td>\n",
       "      <td>7.0</td>\n",
       "      <td>0.586</td>\n",
       "      <td>-1.0</td>\n",
       "      <td>105.500</td>\n",
       "      <td>22.130</td>\n",
       "    </tr>\n",
       "    <tr>\n",
       "      <th>1</th>\n",
       "      <td>70201</td>\n",
       "      <td>8</td>\n",
       "      <td>4</td>\n",
       "      <td>0.0</td>\n",
       "      <td>0.0</td>\n",
       "      <td>82.995</td>\n",
       "      <td>14.989</td>\n",
       "      <td>1.0</td>\n",
       "      <td>0.720</td>\n",
       "      <td>-1.0</td>\n",
       "      <td>83.495</td>\n",
       "      <td>18.265</td>\n",
       "    </tr>\n",
       "    <tr>\n",
       "      <th>2</th>\n",
       "      <td>70201</td>\n",
       "      <td>16</td>\n",
       "      <td>1</td>\n",
       "      <td>0.0</td>\n",
       "      <td>0.0</td>\n",
       "      <td>49.066</td>\n",
       "      <td>-72.638</td>\n",
       "      <td>1.0</td>\n",
       "      <td>0.737</td>\n",
       "      <td>-1.0</td>\n",
       "      <td>49.822</td>\n",
       "      <td>-72.954</td>\n",
       "    </tr>\n",
       "    <tr>\n",
       "      <th>3</th>\n",
       "      <td>70201</td>\n",
       "      <td>24</td>\n",
       "      <td>1</td>\n",
       "      <td>0.0</td>\n",
       "      <td>0.0</td>\n",
       "      <td>111.617</td>\n",
       "      <td>28.309</td>\n",
       "      <td>10.0</td>\n",
       "      <td>2.944</td>\n",
       "      <td>-1.0</td>\n",
       "      <td>108.060</td>\n",
       "      <td>30.175</td>\n",
       "    </tr>\n",
       "    <tr>\n",
       "      <th>4</th>\n",
       "      <td>70201</td>\n",
       "      <td>32</td>\n",
       "      <td>1</td>\n",
       "      <td>0.0</td>\n",
       "      <td>0.0</td>\n",
       "      <td>108.920</td>\n",
       "      <td>34.867</td>\n",
       "      <td>4.0</td>\n",
       "      <td>1.386</td>\n",
       "      <td>-1.0</td>\n",
       "      <td>103.980</td>\n",
       "      <td>32.855</td>\n",
       "    </tr>\n",
       "  </tbody>\n",
       "</table>\n",
       "</div>"
      ],
      "text/plain": [
       "     sec  agent_id  agent_type  has_luggage  is_disabled        X       Y  \\\n",
       "0  70201         0           4          0.0          0.0  105.955  20.712   \n",
       "1  70201         8           4          0.0          0.0   82.995  14.989   \n",
       "2  70201        16           1          0.0          0.0   49.066 -72.638   \n",
       "3  70201        24           1          0.0          0.0  111.617  28.309   \n",
       "4  70201        32           1          0.0          0.0  108.920  34.867   \n",
       "\n",
       "      Z  velocity  queue_id  lookUp_X  lookUp_Y  \n",
       "0   7.0     0.586      -1.0   105.500    22.130  \n",
       "1   1.0     0.720      -1.0    83.495    18.265  \n",
       "2   1.0     0.737      -1.0    49.822   -72.954  \n",
       "3  10.0     2.944      -1.0   108.060    30.175  \n",
       "4   4.0     1.386      -1.0   103.980    32.855  "
      ]
     },
     "execution_count": 143,
     "metadata": {},
     "output_type": "execute_result"
    }
   ],
   "source": [
    "agents.head()"
   ]
  },
  {
   "cell_type": "code",
   "execution_count": 144,
   "metadata": {
    "collapsed": false
   },
   "outputs": [
    {
     "name": "stdout",
     "output_type": "stream",
     "text": [
      "(-139.15, 142.0) (-78.41, 74.94) (0.0, 25.5)\n"
     ]
    }
   ],
   "source": [
    "xlimt = (min_point[0],max_point[0])\n",
    "ylimt = (min_point[1],max_point[1])\n",
    "zlimt = (min_point[2],max_point[2])\n",
    "print(xlimt,ylimt,zlimt)"
   ]
  },
  {
   "cell_type": "code",
   "execution_count": 155,
   "metadata": {
    "collapsed": true
   },
   "outputs": [],
   "source": [
    "import unittest\n",
    "'''class btree:\n",
    "    def __init__(self):\n",
    "        self.root = None\n",
    "        self.size = 0\n",
    "    def put(self,agents,xlim,ylim,zlim,parent=None,left=None,right=None):\n",
    "        if self.root:\n",
    "            pass\n",
    "        else:\n",
    "            self.root = TreeNode(agents,xlim,ylim,zlim)\n",
    "        self.increase_ct()\n",
    "        return TreeNode(agents,xlim,ylim,zlim)\n",
    "    \n",
    "    def increase_ct(self):\n",
    "        self.size += 1'''\n",
    "        \n",
    "class TreeNode:\n",
    "    def __init__(self,agents,xlim,ylim,zlim,parent=None,left=None,right=None): #agents is a pandas df\n",
    "        self.xlim = xlim\n",
    "        self.ylim = ylim\n",
    "        self.zlim = zlim #each xlim,ylim and zlim is a tuple denoting limits on each axis\n",
    "        self.count = self.get_count(agents) #count gets the number of agents for each node\n",
    "        self.traffic_density = self.get_density()\n",
    "        self.leftChild = left\n",
    "        self.rightChild = right\n",
    "        self.parent = parent\n",
    "        \n",
    "    def get_count(self,agents): #gets the number of agents within the x,y and z limits\n",
    "        c = agents[(agents['X']>=self.xlim[0]) & (agents['X']<self.xlim[1]) & (agents['Y']>=self.ylim[0]) & (agents['Y']<self.ylim[1]) & (agents['Z']>=self.zlim[0]) & (agents['Z']<self.zlim[1])].shape[0]\n",
    "        return c\n",
    "    \n",
    "    def get_density(self):  #calculates the space usage per sq. area\n",
    "        x = self.xlim[1]-self.xlim[0] #using only x and y axis for area calculation\n",
    "        y = self.ylim[1]-self.ylim[0]\n",
    "        area = x*y\n",
    "        return round(self.count/area,2)\n",
    "    \n",
    "    def split(self,agents,axis): #axis should be either 'x' or 'y' or 'z'\n",
    "        if axis == 'x':\n",
    "            mp = round((self.xlim[0]+self.xlim[1])/2,1)  #mp is mid point\n",
    "            l_xlim = (self.xlim[0],mp)   #l_xlim is lower_x_limit\n",
    "            u_xlim = (mp,self.xlim[1])   #u_xlim is upper_x_limit\n",
    "            self.leftChild = TreeNode(agents,l_xlim,self.ylim,self.zlim,parent = self)\n",
    "            self.rightChild = TreeNode(agents,u_xlim,self.ylim,self.zlim,parent = self)\n",
    "        elif axis == 'y':\n",
    "            mp = round((self.ylim[0]+self.ylim[1])/2,1)\n",
    "            l_ylim = (self.ylim[0],mp)\n",
    "            u_ylim = (mp,self.ylim[1])\n",
    "            self.leftChild = TreeNode(agents,self.xlim,l_ylim,self.zlim,parent = self)\n",
    "            self.rightChild = TreeNode(agents,self.xlim,u_ylim,self.zlim,parent = self)\n",
    "        elif axis == 'z':\n",
    "            mp = round((self.zlim[0]+self.zlim[1])/2,1)\n",
    "            l_zlim = (self.zlim[0],mp)\n",
    "            u_zlim = (mp,self.zlim[1])\n",
    "            self.leftChild = TreeNode(agents,self.xlim,self.ylim,l_zlim,parent = self)\n",
    "            self.rightChild = TreeNode(agents,self.xlim,self.ylim,u_zlim,parent = self)\n",
    "        else:\n",
    "            pass\n",
    "        return (self.leftChild,self.rightChild)\n",
    "    \n",
    "    def __str__(self):\n",
    "        s = \"Agent Traffic in node : \" + str(self.count)\n",
    "        s += \"\\n\" + \"X : \" + str(self.xlim) + \"\\n\" + \"Y : \" + str(self.ylim) + \"\\n\" + \"Z : \" + str(self.zlim) + \"\\n\" + \"Traffic Density : \" + str(self.traffic_density) + \" usage/sq.area\" + \"\\n\" \n",
    "        return s"
   ]
  },
  {
   "cell_type": "code",
   "execution_count": 156,
   "metadata": {
    "collapsed": false
   },
   "outputs": [
    {
     "name": "stdout",
     "output_type": "stream",
     "text": [
      "Agent Traffic in node : 3830203\n",
      "X : (-139.15, 142.0)\n",
      "Y : (-78.41, 74.94)\n",
      "Z : (0.0, 25.5)\n",
      "Traffic Density : 88.84 usage/sq.area\n",
      "\n"
     ]
    }
   ],
   "source": [
    "#root initialization\n",
    "root = TreeNode(agents,xlimt,ylimt,zlimt)  #pass the whole building limits and whole set of agents data into root\n",
    "print(root)"
   ]
  },
  {
   "cell_type": "code",
   "execution_count": 147,
   "metadata": {
    "collapsed": true
   },
   "outputs": [],
   "source": [
    "#recursive code to split building spatially\n",
    "def building_split(node):\n",
    "    if node.count < 2000: #this parameter can control the depth of the tree\n",
    "        return node\n",
    "    if node.zlim[1]-node.zlim[0] > 2: #check for this bcoz after a few levels z split wont be needed\n",
    "        for i in node.split(agents,'z'):\n",
    "            for j in i.split(agents,'x'):\n",
    "                for k in j.split(agents,'y'):\n",
    "                    building_split(k) #recursion call\n",
    "    elif node.xlim[1]-node.xlim[0] > 20:\n",
    "        for j in node.split(agents,'x'):\n",
    "            for k in j.split(agents,'y'):\n",
    "                building_split(k) #recursion call\n",
    "    return node             "
   ]
  },
  {
   "cell_type": "code",
   "execution_count": 157,
   "metadata": {
    "collapsed": false
   },
   "outputs": [
    {
     "data": {
      "text/plain": [
       "<__main__.TreeNode at 0x13e15924780>"
      ]
     },
     "execution_count": 157,
     "metadata": {},
     "output_type": "execute_result"
    }
   ],
   "source": [
    "#function call - runs for a looong time - about 10 minutes\n",
    "building_split(root)"
   ]
  },
  {
   "cell_type": "code",
   "execution_count": 158,
   "metadata": {
    "collapsed": false
   },
   "outputs": [],
   "source": [
    "#function to get all the nodes at a certain depth from root\n",
    "def get_nodes_at_depth(root,depth):\n",
    "    node_list = [root]\n",
    "    child_list = []\n",
    "    for i in range(depth):\n",
    "        for j in node_list:\n",
    "            child_list.append(j.leftChild)\n",
    "            child_list.append(j.rightChild)\n",
    "        node_list = child_list\n",
    "        child_list = []\n",
    "    return node_list\n",
    "#check - the sum of all counts from any depth should add upto the total number of counts in root"
   ]
  },
  {
   "cell_type": "code",
   "execution_count": 159,
   "metadata": {
    "collapsed": false
   },
   "outputs": [
    {
     "name": "stdout",
     "output_type": "stream",
     "text": [
      "The number of nodes at this level is 8\n",
      "\n",
      "Agent Traffic in node : 647228\n",
      "X : (-139.15, 1.4)\n",
      "Y : (-78.41, -1.7)\n",
      "Z : (0.0, 12.8)\n",
      "Traffic Density : 60.03 usage/sq.area\n",
      "\n",
      "Agent Traffic in node : 0\n",
      "X : (-139.15, 1.4)\n",
      "Y : (-1.7, 74.94)\n",
      "Z : (0.0, 12.8)\n",
      "Traffic Density : 0.0 usage/sq.area\n",
      "\n",
      "Agent Traffic in node : 1540471\n",
      "X : (1.4, 142.0)\n",
      "Y : (-78.41, -1.7)\n",
      "Z : (0.0, 12.8)\n",
      "Traffic Density : 142.83 usage/sq.area\n",
      "\n",
      "Agent Traffic in node : 921111\n",
      "X : (1.4, 142.0)\n",
      "Y : (-1.7, 74.94)\n",
      "Z : (0.0, 12.8)\n",
      "Traffic Density : 85.48 usage/sq.area\n",
      "\n",
      "Agent Traffic in node : 216488\n",
      "X : (-139.15, 1.4)\n",
      "Y : (-78.41, -1.7)\n",
      "Z : (12.8, 25.5)\n",
      "Traffic Density : 20.08 usage/sq.area\n",
      "\n",
      "Agent Traffic in node : 0\n",
      "X : (-139.15, 1.4)\n",
      "Y : (-1.7, 74.94)\n",
      "Z : (12.8, 25.5)\n",
      "Traffic Density : 0.0 usage/sq.area\n",
      "\n",
      "Agent Traffic in node : 152084\n",
      "X : (1.4, 142.0)\n",
      "Y : (-78.41, -1.7)\n",
      "Z : (12.8, 25.5)\n",
      "Traffic Density : 14.1 usage/sq.area\n",
      "\n",
      "Agent Traffic in node : 352821\n",
      "X : (1.4, 142.0)\n",
      "Y : (-1.7, 74.94)\n",
      "Z : (12.8, 25.5)\n",
      "Traffic Density : 32.74 usage/sq.area\n",
      "\n"
     ]
    }
   ],
   "source": [
    "nodes = get_nodes_at_depth(root,3)  #change depth and call for different depths\n",
    "print(\"The number of nodes at this level is \" + str(len(nodes)) + \"\\n\")\n",
    "for i in nodes:\n",
    "    print(i)"
   ]
  },
  {
   "cell_type": "code",
   "execution_count": null,
   "metadata": {
    "collapsed": true
   },
   "outputs": [],
   "source": []
  }
 ],
 "metadata": {
  "anaconda-cloud": {},
  "kernelspec": {
   "display_name": "Python [conda root]",
   "language": "python",
   "name": "conda-root-py"
  },
  "language_info": {
   "codemirror_mode": {
    "name": "ipython",
    "version": 3
   },
   "file_extension": ".py",
   "mimetype": "text/x-python",
   "name": "python",
   "nbconvert_exporter": "python",
   "pygments_lexer": "ipython3",
   "version": "3.5.2"
  }
 },
 "nbformat": 4,
 "nbformat_minor": 1
}

{
 "cells": [
  {
   "cell_type": "code",
   "execution_count": 1,
   "metadata": {
    "collapsed": true
   },
   "outputs": [],
   "source": [
    "import pandas as pd\n",
    "import numpy as np\n",
    "import matplotlib.pyplot as plt\n",
    "import yaml # If you don't have this package use 'pip install pyyaml' into commandline or terminal\n",
    "# Matplotlib Config\n",
    "%matplotlib inline\n",
    "plt.style.use('fivethirtyeight')\n",
    "# Turn 'building.yaml' file into a python dictionary using PyYAML \n",
    "with open('building.yaml') as f:\n",
    "    building_data = f.read()\n",
    "    building_data = yaml.load(building_data)\n",
    "    f.close()\n",
    "building = pd.DataFrame(building_data) #building contains only two rows out of which only one(first one) contains actual info\n",
    "building = pd.DataFrame(building['building1'][0])\n",
    "    \n",
    "### Column Names for our dataframe\n",
    "col_names = ['sec', \n",
    "             'agent_id',\n",
    "             'agent_type',\n",
    "             'has_luggage',\n",
    "             'is_disabled',\n",
    "             'X', \n",
    "             'Y',\n",
    "             'Z',\n",
    "             'velocity',\n",
    "             'queue_id',\n",
    "             'lookUp_X',\n",
    "             'lookUp_Y']\n",
    "df1 = pd.read_csv('Agents/thread_0.txt', header=0, names=col_names)\n",
    "df2 = pd.read_csv('Agents/thread_1.txt', header=0, names=col_names)\n",
    "df3 = pd.read_csv('Agents/thread_2.txt', header=0, names=col_names)\n",
    "df4 = pd.read_csv('Agents/thread_3.txt', header=0, names=col_names)\n",
    "df5 = pd.read_csv('Agents/thread_4.txt', header=0, names=col_names)\n",
    "df6 = pd.read_csv('Agents/thread_5.txt', header=0, names=col_names)\n",
    "df7 = pd.read_csv('Agents/thread_6.txt', header=0, names=col_names)\n",
    "df8 = pd.read_csv('Agents/thread_7.txt', header=0, names=col_names)\n",
    "\n",
    "frames = [df1,df2,df3,df4,df5,df6,df7,df8]\n",
    "df = pd.concat(frames)\n",
    "agents = df[df['Z']>=0] #taking only the points which have positive Z value"
   ]
  },
  {
   "cell_type": "code",
   "execution_count": 102,
   "metadata": {
    "collapsed": false
   },
   "outputs": [
    {
     "name": "stdout",
     "output_type": "stream",
     "text": [
      "(3830209, 3)\n"
     ]
    },
    {
     "data": {
      "text/html": [
       "<div>\n",
       "<style>\n",
       "    .dataframe thead tr:only-child th {\n",
       "        text-align: right;\n",
       "    }\n",
       "\n",
       "    .dataframe thead th {\n",
       "        text-align: left;\n",
       "    }\n",
       "\n",
       "    .dataframe tbody tr th {\n",
       "        vertical-align: top;\n",
       "    }\n",
       "</style>\n",
       "<table border=\"1\" class=\"dataframe\">\n",
       "  <thead>\n",
       "    <tr style=\"text-align: right;\">\n",
       "      <th></th>\n",
       "      <th>sec</th>\n",
       "      <th>agent_id</th>\n",
       "      <th>agent_type</th>\n",
       "    </tr>\n",
       "  </thead>\n",
       "  <tbody>\n",
       "    <tr>\n",
       "      <th>0</th>\n",
       "      <td>70201</td>\n",
       "      <td>0</td>\n",
       "      <td>4</td>\n",
       "    </tr>\n",
       "    <tr>\n",
       "      <th>1</th>\n",
       "      <td>70201</td>\n",
       "      <td>8</td>\n",
       "      <td>4</td>\n",
       "    </tr>\n",
       "    <tr>\n",
       "      <th>2</th>\n",
       "      <td>70201</td>\n",
       "      <td>16</td>\n",
       "      <td>1</td>\n",
       "    </tr>\n",
       "    <tr>\n",
       "      <th>3</th>\n",
       "      <td>70201</td>\n",
       "      <td>24</td>\n",
       "      <td>1</td>\n",
       "    </tr>\n",
       "    <tr>\n",
       "      <th>4</th>\n",
       "      <td>70201</td>\n",
       "      <td>32</td>\n",
       "      <td>1</td>\n",
       "    </tr>\n",
       "  </tbody>\n",
       "</table>\n",
       "</div>"
      ],
      "text/plain": [
       "     sec  agent_id  agent_type\n",
       "0  70201         0           4\n",
       "1  70201         8           4\n",
       "2  70201        16           1\n",
       "3  70201        24           1\n",
       "4  70201        32           1"
      ]
     },
     "execution_count": 102,
     "metadata": {},
     "output_type": "execute_result"
    }
   ],
   "source": [
    "agents = agents[['sec','agent_id','agent_type']].drop_duplicates()\n",
    "print(agents.shape)\n",
    "agents.head()"
   ]
  },
  {
   "cell_type": "code",
   "execution_count": 103,
   "metadata": {
    "collapsed": false
   },
   "outputs": [
    {
     "data": {
      "text/plain": [
       "(70201, 71400)"
      ]
     },
     "execution_count": 103,
     "metadata": {},
     "output_type": "execute_result"
    }
   ],
   "source": [
    "tlimit = (min(agents['sec'].unique()),max(agents['sec'].unique())+1)\n",
    "tlimit"
   ]
  },
  {
   "cell_type": "code",
   "execution_count": 95,
   "metadata": {
    "collapsed": true
   },
   "outputs": [],
   "source": [
    "def split_time(tlimt):\n",
    "    d = round((tlimt[1]-tlimt[0])/2,1)\n",
    "    mp = tlimt[0]+d\n",
    "    l_tlimt = (tlimt[0],mp)\n",
    "    u_tlimt = (mp,tlimt[1])\n",
    "    return (l_tlimt,u_tlimt)\n",
    "\n",
    "#get number of unique agents in the building in that time period and no of unique agents by agent_type\n",
    "def get_metrics(agents,tlimt):\n",
    "    df = agents[(agents['sec']>=tlimt[0]) & (agents['sec']<tlimt[1])].drop_duplicates()\n",
    "    no_of_agents = len(df['agent_id'].unique())\n",
    "    agents_by_type = {0:0,1:0,2:0,3:0,4:0}\n",
    "    k = df.groupby('agent_type').agent_id.nunique()\n",
    "    for i in k.keys():\n",
    "        agents_by_type[i] = k[i]\n",
    "    return (no_of_agents,agents_by_type)"
   ]
  },
  {
   "cell_type": "code",
   "execution_count": 96,
   "metadata": {
    "collapsed": false
   },
   "outputs": [
    {
     "data": {
      "text/plain": [
       "(8498, {0: 6874, 1: 463, 2: 1155, 3: 62, 4: 206})"
      ]
     },
     "execution_count": 96,
     "metadata": {},
     "output_type": "execute_result"
    }
   ],
   "source": [
    "get_metrics(agents,tlimit)"
   ]
  },
  {
   "cell_type": "code",
   "execution_count": 97,
   "metadata": {
    "collapsed": true
   },
   "outputs": [],
   "source": [
    "#n is the no of binary splits,eg:n=2 will have 4 equal time periods, n=4 will have 16 eq t.periods &so on\n",
    "def temporal_split(n,agents,tlimit):\n",
    "    t_queue = [tlimit]\n",
    "    temp = []\n",
    "    for i in range(n):\n",
    "        for j in t_queue:\n",
    "            temp.extend((split_time(j)))\n",
    "        t_queue = temp\n",
    "        temp = []\n",
    "    \n",
    "    df_list = []\n",
    "    for i in t_queue:\n",
    "        a,b = get_metrics(agents,i)\n",
    "        data = {'time_period' : i,\n",
    "               'no_of_agents' : a,\n",
    "               'agents_by_type' : b\n",
    "               }\n",
    "        df_list.append(data)\n",
    "    \n",
    "    return pd.DataFrame(df_list)        "
   ]
  },
  {
   "cell_type": "code",
   "execution_count": 98,
   "metadata": {
    "collapsed": false
   },
   "outputs": [
    {
     "data": {
      "text/plain": [
       "(4, 3)"
      ]
     },
     "execution_count": 98,
     "metadata": {},
     "output_type": "execute_result"
    }
   ],
   "source": [
    "#runs in time O(2^n)\n",
    "k = temporal_split(8,agents,tlimit)\n",
    "k.shape"
   ]
  },
  {
   "cell_type": "code",
   "execution_count": 99,
   "metadata": {
    "collapsed": false
   },
   "outputs": [
    {
     "data": {
      "text/html": [
       "<div>\n",
       "<style>\n",
       "    .dataframe thead tr:only-child th {\n",
       "        text-align: right;\n",
       "    }\n",
       "\n",
       "    .dataframe thead th {\n",
       "        text-align: left;\n",
       "    }\n",
       "\n",
       "    .dataframe tbody tr th {\n",
       "        vertical-align: top;\n",
       "    }\n",
       "</style>\n",
       "<table border=\"1\" class=\"dataframe\">\n",
       "  <thead>\n",
       "    <tr style=\"text-align: right;\">\n",
       "      <th></th>\n",
       "      <th>agents_by_type</th>\n",
       "      <th>no_of_agents</th>\n",
       "      <th>time_period</th>\n",
       "    </tr>\n",
       "  </thead>\n",
       "  <tbody>\n",
       "    <tr>\n",
       "      <th>0</th>\n",
       "      <td>{0: 4018, 1: 446, 2: 705, 3: 57, 4: 196}</td>\n",
       "      <td>5422</td>\n",
       "      <td>(70201, 70500.8)</td>\n",
       "    </tr>\n",
       "    <tr>\n",
       "      <th>1</th>\n",
       "      <td>{0: 5216, 1: 294, 2: 854, 3: 45, 4: 196}</td>\n",
       "      <td>6605</td>\n",
       "      <td>(70500.8, 70800.5)</td>\n",
       "    </tr>\n",
       "    <tr>\n",
       "      <th>2</th>\n",
       "      <td>{0: 5889, 1: 226, 2: 957, 3: 54, 4: 199}</td>\n",
       "      <td>7325</td>\n",
       "      <td>(70800.5, 71100.3)</td>\n",
       "    </tr>\n",
       "    <tr>\n",
       "      <th>3</th>\n",
       "      <td>{0: 5686, 1: 163, 2: 1015, 3: 51, 4: 203}</td>\n",
       "      <td>7118</td>\n",
       "      <td>(71100.3, 71400)</td>\n",
       "    </tr>\n",
       "  </tbody>\n",
       "</table>\n",
       "</div>"
      ],
      "text/plain": [
       "                              agents_by_type  no_of_agents         time_period\n",
       "0   {0: 4018, 1: 446, 2: 705, 3: 57, 4: 196}          5422    (70201, 70500.8)\n",
       "1   {0: 5216, 1: 294, 2: 854, 3: 45, 4: 196}          6605  (70500.8, 70800.5)\n",
       "2   {0: 5889, 1: 226, 2: 957, 3: 54, 4: 199}          7325  (70800.5, 71100.3)\n",
       "3  {0: 5686, 1: 163, 2: 1015, 3: 51, 4: 203}          7118    (71100.3, 71400)"
      ]
     },
     "execution_count": 99,
     "metadata": {},
     "output_type": "execute_result"
    }
   ],
   "source": [
    "k"
   ]
  },
  {
   "cell_type": "code",
   "execution_count": null,
   "metadata": {
    "collapsed": true
   },
   "outputs": [],
   "source": []
  }
 ],
 "metadata": {
  "anaconda-cloud": {},
  "kernelspec": {
   "display_name": "Python [conda root]",
   "language": "python",
   "name": "conda-root-py"
  },
  "language_info": {
   "codemirror_mode": {
    "name": "ipython",
    "version": 3
   },
   "file_extension": ".py",
   "mimetype": "text/x-python",
   "name": "python",
   "nbconvert_exporter": "python",
   "pygments_lexer": "ipython3",
   "version": "3.5.2"
  }
 },
 "nbformat": 4,
 "nbformat_minor": 1
}

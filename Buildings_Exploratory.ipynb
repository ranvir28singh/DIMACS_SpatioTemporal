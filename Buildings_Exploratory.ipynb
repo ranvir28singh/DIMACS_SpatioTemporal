{
 "cells": [
  {
   "cell_type": "code",
   "execution_count": 1,
   "metadata": {
    "collapsed": true
   },
   "outputs": [],
   "source": [
    "import pandas as pd\n",
    "import numpy as np\n",
    "import matplotlib.pyplot as plt\n",
    "# For reading building.yaml as a Python dict\n",
    "import yaml # If you don't have this package use 'pip install pyyaml' into commandline or terminal\n",
    "\n",
    "\n",
    "# Matplotlib Config\n",
    "%matplotlib inline\n",
    "plt.style.use('fivethirtyeight')"
   ]
  },
  {
   "cell_type": "code",
   "execution_count": 2,
   "metadata": {
    "collapsed": true
   },
   "outputs": [],
   "source": [
    "# Turn 'building.yaml' file into a python dictionary using PyYAML \n",
    "with open('Files/building.yaml') as f:\n",
    "    building_data = f.read()\n",
    "    building_data = yaml.load(building_data)\n",
    "    f.close()"
   ]
  },
  {
   "cell_type": "code",
   "execution_count": 3,
   "metadata": {},
   "outputs": [],
   "source": [
    "## See what keys exist in the dictionary\n",
    "#print(building_data.keys())"
   ]
  },
  {
   "cell_type": "markdown",
   "metadata": {},
   "source": [
    "## Further Exploration"
   ]
  },
  {
   "cell_type": "code",
   "execution_count": 4,
   "metadata": {},
   "outputs": [],
   "source": [
    "## There is only one key, which further has two keys - Type has one value 'obstacle' so we're interested in 'geometries'\n",
    "#print(building_data['building1'].keys())\n",
    "#print(building_data['building1']['type'])\n",
    "\n",
    "\n",
    "## 'geometries' is a list with 6461 objects\n",
    "#print(type(building_data['building1']['geometries']))\n",
    "#print(type(building_data['building1']['geometries'][0]))\n",
    "#print(len(building_data['building1']['geometries']))\n",
    "#print(len(building_data['building1']['geometries'][0]))"
   ]
  },
  {
   "cell_type": "code",
   "execution_count": 5,
   "metadata": {},
   "outputs": [],
   "source": [
    "#this is how one element of geometries looks like\n",
    "\n",
    "#building_data['building1']['geometries'][0]\n",
    "\n",
    "#its a list of dictionaries  with 3 keys - collision_geometry, config and name\n",
    "#collision"
   ]
  },
  {
   "cell_type": "code",
   "execution_count": 6,
   "metadata": {
    "scrolled": true
   },
   "outputs": [],
   "source": [
    "## Print first ten elements of the list\n",
    "#print(building_data['building1']['geometries'][:10])"
   ]
  },
  {
   "cell_type": "code",
   "execution_count": 7,
   "metadata": {},
   "outputs": [],
   "source": [
    "## 'type' seems interesting in the 'geometries' dictionary\n",
    "## Iterate over the elements, add it to a list and use 'set' to get the unique 'types'\n",
    "\n",
    "#type_list = []\n",
    "#for i in building_data['building1']['geometries']:\n",
    "#    type_list.append(i['collision_geometry']['type'])\n",
    "    \n",
    "## Set gives you the unique elements in a list\n",
    "#print(set(type_list))"
   ]
  },
  {
   "cell_type": "code",
   "execution_count": 8,
   "metadata": {
    "scrolled": true
   },
   "outputs": [],
   "source": [
    "## Look at items that are of type 'box'\n",
    "#box_type = []\n",
    "#for i in building_data['building1']['geometries']:\n",
    "#    if i['collision_geometry']['type'] == 'box':\n",
    "#        box_type.append(i['name'])\n",
    "\n",
    "#len(box_type)\n",
    "#print(box_type)\n",
    "## Most of them are NoName objects so let's look at type == 'polygons'"
   ]
  },
  {
   "cell_type": "markdown",
   "metadata": {},
   "source": [
    "### Set of Z values for type polygon"
   ]
  },
  {
   "cell_type": "code",
   "execution_count": 9,
   "metadata": {},
   "outputs": [],
   "source": [
    "## Let's try another approach where we print out all 'names' that are not 'NoName' to see what different type of\n",
    "## objects exist.\n",
    "\n",
    "#for i in range(0,len(building_data['building1']['geometries'])):\n",
    "#    if 'NoName' not in str(building_data['building1']['geometries'][i]['name']):\n",
    "#        print(building_data['building1']['geometries'][i]['name'])\n",
    "        \n",
    "## Pretty much the same result as the polygon/box differentiation."
   ]
  },
  {
   "cell_type": "markdown",
   "metadata": {},
   "source": [
    "## List of entrances/exits"
   ]
  },
  {
   "cell_type": "code",
   "execution_count": 10,
   "metadata": {
    "collapsed": true
   },
   "outputs": [],
   "source": [
    "## For an initial run, let's look at objects that have the words 'exit' 'entry' 'entrance' in their name\n",
    "## and add their info to a list.\n",
    "## There could be more than these entrances/exits with other names?? - this is just for a starting point"
   ]
  },
  {
   "cell_type": "code",
   "execution_count": 11,
   "metadata": {},
   "outputs": [],
   "source": [
    "exit_entry_list = []\n",
    "\n",
    "for i in range(0,len(building_data['building1']['geometries'])):\n",
    "    for keyword in ['exit','entry','entrance']:\n",
    "        if (keyword in str(building_data['building1']['geometries'][i]['name']).lower()):\n",
    "            exit_entry_list.append(building_data['building1']['geometries'][i])\n",
    "\n",
    "#print(len(exit_entry_list))"
   ]
  },
  {
   "cell_type": "code",
   "execution_count": 12,
   "metadata": {
    "collapsed": true
   },
   "outputs": [],
   "source": [
    "## So we'd probably be interested in the triangle coordiantes - Still need to figure out how these work\n",
    "## Lets take the first element of our entry_exit list as test"
   ]
  },
  {
   "cell_type": "markdown",
   "metadata": {},
   "source": [
    "## Entrance/Exits with their coordinates"
   ]
  },
  {
   "cell_type": "code",
   "execution_count": 13,
   "metadata": {},
   "outputs": [
    {
     "data": {
      "text/html": [
       "<div>\n",
       "<style>\n",
       "    .dataframe thead tr:only-child th {\n",
       "        text-align: right;\n",
       "    }\n",
       "\n",
       "    .dataframe thead th {\n",
       "        text-align: left;\n",
       "    }\n",
       "\n",
       "    .dataframe tbody tr th {\n",
       "        vertical-align: top;\n",
       "    }\n",
       "</style>\n",
       "<table border=\"1\" class=\"dataframe\">\n",
       "  <thead>\n",
       "    <tr style=\"text-align: right;\">\n",
       "      <th></th>\n",
       "      <th>name</th>\n",
       "      <th>no_of_triangles</th>\n",
       "      <th>triangles</th>\n",
       "      <th>x</th>\n",
       "      <th>y</th>\n",
       "      <th>z</th>\n",
       "    </tr>\n",
       "  </thead>\n",
       "  <tbody>\n",
       "    <tr>\n",
       "      <th>0</th>\n",
       "      <td>entry__exit_4_58</td>\n",
       "      <td>6</td>\n",
       "      <td>[(100.6, -17.01, 6.0), (100.6, -11.75, 6.0), (...</td>\n",
       "      <td>[100.6, 100.6, 92.88, 100.6, 92.88, 92.88]</td>\n",
       "      <td>[-17.01, -11.75, -11.75, -17.01, -11.75, -17.01]</td>\n",
       "      <td>[6.0, 6.0, 6.0, 6.0, 6.0, 6.0]</td>\n",
       "    </tr>\n",
       "    <tr>\n",
       "      <th>1</th>\n",
       "      <td>entry_exit_7_455</td>\n",
       "      <td>6</td>\n",
       "      <td>[(120.12, 60.33, 6.0), (122.93, 64.5, 6.0), (1...</td>\n",
       "      <td>[120.12, 122.93, 120.16, 120.12, 123.0, 122.93]</td>\n",
       "      <td>[60.33, 64.5, 64.5, 60.33, 60.28, 64.5]</td>\n",
       "      <td>[6.0, 6.0, 6.0, 6.0, 6.0, 6.0]</td>\n",
       "    </tr>\n",
       "    <tr>\n",
       "      <th>2</th>\n",
       "      <td>entry_exit_stairs_544</td>\n",
       "      <td>6</td>\n",
       "      <td>[(46.24, 9.3, 6.0), (53.04, 9.3, 6.0), (53.04,...</td>\n",
       "      <td>[46.24, 53.04, 53.04, 46.24, 53.04, 46.08]</td>\n",
       "      <td>[9.3, 9.3, 17.1, 9.3, 17.1, 16.96]</td>\n",
       "      <td>[6.0, 6.0, 6.0, 6.0, 6.0, 6.0]</td>\n",
       "    </tr>\n",
       "    <tr>\n",
       "      <th>3</th>\n",
       "      <td>entry_exit_591</td>\n",
       "      <td>9</td>\n",
       "      <td>[(107.77, 10.18, 6.0), (107.42, 16.32, 6.0), (...</td>\n",
       "      <td>[107.77, 107.42, 103.53, 103.54, 107.77, 107.7...</td>\n",
       "      <td>[10.18, 16.32, 16.7, 9.3, 8.9, 10.18, 9.3, 10....</td>\n",
       "      <td>[6.0, 6.0, 6.0, 6.0, 6.0, 6.0, 6.0, 6.0, 6.0]</td>\n",
       "    </tr>\n",
       "    <tr>\n",
       "      <th>4</th>\n",
       "      <td>exit_entry_1_1002</td>\n",
       "      <td>6</td>\n",
       "      <td>[(32.3, -20.64, 6.0), (36.34, -11.79, 6.0), (3...</td>\n",
       "      <td>[32.3, 36.34, 32.3, 32.3, 36.36, 36.34]</td>\n",
       "      <td>[-20.64, -11.79, -11.75, -20.64, -20.75, -11.79]</td>\n",
       "      <td>[6.0, 6.0, 6.0, 6.0, 6.0, 6.0]</td>\n",
       "    </tr>\n",
       "  </tbody>\n",
       "</table>\n",
       "</div>"
      ],
      "text/plain": [
       "                    name  no_of_triangles  \\\n",
       "0       entry__exit_4_58                6   \n",
       "1       entry_exit_7_455                6   \n",
       "2  entry_exit_stairs_544                6   \n",
       "3         entry_exit_591                9   \n",
       "4      exit_entry_1_1002                6   \n",
       "\n",
       "                                           triangles  \\\n",
       "0  [(100.6, -17.01, 6.0), (100.6, -11.75, 6.0), (...   \n",
       "1  [(120.12, 60.33, 6.0), (122.93, 64.5, 6.0), (1...   \n",
       "2  [(46.24, 9.3, 6.0), (53.04, 9.3, 6.0), (53.04,...   \n",
       "3  [(107.77, 10.18, 6.0), (107.42, 16.32, 6.0), (...   \n",
       "4  [(32.3, -20.64, 6.0), (36.34, -11.79, 6.0), (3...   \n",
       "\n",
       "                                                   x  \\\n",
       "0         [100.6, 100.6, 92.88, 100.6, 92.88, 92.88]   \n",
       "1    [120.12, 122.93, 120.16, 120.12, 123.0, 122.93]   \n",
       "2         [46.24, 53.04, 53.04, 46.24, 53.04, 46.08]   \n",
       "3  [107.77, 107.42, 103.53, 103.54, 107.77, 107.7...   \n",
       "4            [32.3, 36.34, 32.3, 32.3, 36.36, 36.34]   \n",
       "\n",
       "                                                   y  \\\n",
       "0   [-17.01, -11.75, -11.75, -17.01, -11.75, -17.01]   \n",
       "1            [60.33, 64.5, 64.5, 60.33, 60.28, 64.5]   \n",
       "2                 [9.3, 9.3, 17.1, 9.3, 17.1, 16.96]   \n",
       "3  [10.18, 16.32, 16.7, 9.3, 8.9, 10.18, 9.3, 10....   \n",
       "4   [-20.64, -11.79, -11.75, -20.64, -20.75, -11.79]   \n",
       "\n",
       "                                               z  \n",
       "0                 [6.0, 6.0, 6.0, 6.0, 6.0, 6.0]  \n",
       "1                 [6.0, 6.0, 6.0, 6.0, 6.0, 6.0]  \n",
       "2                 [6.0, 6.0, 6.0, 6.0, 6.0, 6.0]  \n",
       "3  [6.0, 6.0, 6.0, 6.0, 6.0, 6.0, 6.0, 6.0, 6.0]  \n",
       "4                 [6.0, 6.0, 6.0, 6.0, 6.0, 6.0]  "
      ]
     },
     "execution_count": 13,
     "metadata": {},
     "output_type": "execute_result"
    }
   ],
   "source": [
    "# Convert list of Entrances/Exit to PANDAS Dataframe\n",
    "\n",
    "df_list = []\n",
    "\n",
    "# Iterate over the exit_entry_list to get 'names' and 'triangles' points\n",
    "# Turn into dictionary and append to df_list for creation of dataframe\n",
    "\n",
    "for i in exit_entry_list:\n",
    "    xyz_list = []\n",
    "    coordinates = i['collision_geometry']['triangles']\n",
    "    for j in range(0,len(coordinates),3):\n",
    "        xyz_list.append((coordinates[j],coordinates[j+1],coordinates[j+2]))\n",
    "    x = coordinates[::3]\n",
    "    y = coordinates[1::3]\n",
    "    z = coordinates[2::3]\n",
    "    data = {'name' : i['name'],\n",
    "           'x' : x,\n",
    "           'y' : y,\n",
    "           'z' : z,\n",
    "            'triangles' : xyz_list, #list of triples\n",
    "            'no_of_triangles' : len(xyz_list),  #no. of triangles used to represent each entrance/exit varies\n",
    "           }\n",
    "    \n",
    "    df_list.append(data)\n",
    "\n",
    "# Create the dataframe\n",
    "df = pd.DataFrame(df_list)\n",
    "df.head(10)\n",
    "\n",
    "# Because the way we look for 'exit' , 'entrance' and 'exit' in our list exit_entry_list, some elements appear twice \n",
    "# (those that have 2 of those words at the same time in their name)\n",
    "\n",
    "df = df.drop_duplicates(subset='name',keep='first')\n",
    "df.reset_index(drop=True,inplace=True)\n",
    "df.head()"
   ]
  },
  {
   "cell_type": "code",
   "execution_count": 14,
   "metadata": {
    "scrolled": true
   },
   "outputs": [
    {
     "data": {
      "text/html": [
       "<div>\n",
       "<style>\n",
       "    .dataframe thead tr:only-child th {\n",
       "        text-align: right;\n",
       "    }\n",
       "\n",
       "    .dataframe thead th {\n",
       "        text-align: left;\n",
       "    }\n",
       "\n",
       "    .dataframe tbody tr th {\n",
       "        vertical-align: top;\n",
       "    }\n",
       "</style>\n",
       "<table border=\"1\" class=\"dataframe\">\n",
       "  <thead>\n",
       "    <tr style=\"text-align: right;\">\n",
       "      <th></th>\n",
       "      <th>name</th>\n",
       "      <th>no_of_triangles</th>\n",
       "      <th>triangles</th>\n",
       "      <th>x</th>\n",
       "      <th>y</th>\n",
       "      <th>z</th>\n",
       "      <th>centroid</th>\n",
       "    </tr>\n",
       "  </thead>\n",
       "  <tbody>\n",
       "    <tr>\n",
       "      <th>0</th>\n",
       "      <td>entry__exit_4_58</td>\n",
       "      <td>6</td>\n",
       "      <td>[(100.6, -17.01, 6.0), (100.6, -11.75, 6.0), (...</td>\n",
       "      <td>[100.6, 100.6, 92.88, 100.6, 92.88, 92.88]</td>\n",
       "      <td>[-17.01, -11.75, -11.75, -17.01, -11.75, -17.01]</td>\n",
       "      <td>[6.0, 6.0, 6.0, 6.0, 6.0, 6.0]</td>\n",
       "      <td>(96.74, -14.38, 6.0)</td>\n",
       "    </tr>\n",
       "    <tr>\n",
       "      <th>1</th>\n",
       "      <td>entry_exit_7_455</td>\n",
       "      <td>6</td>\n",
       "      <td>[(120.12, 60.33, 6.0), (122.93, 64.5, 6.0), (1...</td>\n",
       "      <td>[120.12, 122.93, 120.16, 120.12, 123.0, 122.93]</td>\n",
       "      <td>[60.33, 64.5, 64.5, 60.33, 60.28, 64.5]</td>\n",
       "      <td>[6.0, 6.0, 6.0, 6.0, 6.0, 6.0]</td>\n",
       "      <td>(121.543333333, 62.4066666667, 6.0)</td>\n",
       "    </tr>\n",
       "    <tr>\n",
       "      <th>2</th>\n",
       "      <td>entry_exit_stairs_544</td>\n",
       "      <td>6</td>\n",
       "      <td>[(46.24, 9.3, 6.0), (53.04, 9.3, 6.0), (53.04,...</td>\n",
       "      <td>[46.24, 53.04, 53.04, 46.24, 53.04, 46.08]</td>\n",
       "      <td>[9.3, 9.3, 17.1, 9.3, 17.1, 16.96]</td>\n",
       "      <td>[6.0, 6.0, 6.0, 6.0, 6.0, 6.0]</td>\n",
       "      <td>(49.6133333333, 13.1766666667, 6.0)</td>\n",
       "    </tr>\n",
       "    <tr>\n",
       "      <th>3</th>\n",
       "      <td>entry_exit_591</td>\n",
       "      <td>9</td>\n",
       "      <td>[(107.77, 10.18, 6.0), (107.42, 16.32, 6.0), (...</td>\n",
       "      <td>[107.77, 107.42, 103.53, 103.54, 107.77, 107.7...</td>\n",
       "      <td>[10.18, 16.32, 16.7, 9.3, 8.9, 10.18, 9.3, 10....</td>\n",
       "      <td>[6.0, 6.0, 6.0, 6.0, 6.0, 6.0, 6.0, 6.0, 6.0]</td>\n",
       "      <td>(105.848888889, 11.9733333333, 6.0)</td>\n",
       "    </tr>\n",
       "    <tr>\n",
       "      <th>4</th>\n",
       "      <td>exit_entry_1_1002</td>\n",
       "      <td>6</td>\n",
       "      <td>[(32.3, -20.64, 6.0), (36.34, -11.79, 6.0), (3...</td>\n",
       "      <td>[32.3, 36.34, 32.3, 32.3, 36.36, 36.34]</td>\n",
       "      <td>[-20.64, -11.79, -11.75, -20.64, -20.75, -11.79]</td>\n",
       "      <td>[6.0, 6.0, 6.0, 6.0, 6.0, 6.0]</td>\n",
       "      <td>(34.3233333333, -16.2266666667, 6.0)</td>\n",
       "    </tr>\n",
       "  </tbody>\n",
       "</table>\n",
       "</div>"
      ],
      "text/plain": [
       "                    name  no_of_triangles  \\\n",
       "0       entry__exit_4_58                6   \n",
       "1       entry_exit_7_455                6   \n",
       "2  entry_exit_stairs_544                6   \n",
       "3         entry_exit_591                9   \n",
       "4      exit_entry_1_1002                6   \n",
       "\n",
       "                                           triangles  \\\n",
       "0  [(100.6, -17.01, 6.0), (100.6, -11.75, 6.0), (...   \n",
       "1  [(120.12, 60.33, 6.0), (122.93, 64.5, 6.0), (1...   \n",
       "2  [(46.24, 9.3, 6.0), (53.04, 9.3, 6.0), (53.04,...   \n",
       "3  [(107.77, 10.18, 6.0), (107.42, 16.32, 6.0), (...   \n",
       "4  [(32.3, -20.64, 6.0), (36.34, -11.79, 6.0), (3...   \n",
       "\n",
       "                                                   x  \\\n",
       "0         [100.6, 100.6, 92.88, 100.6, 92.88, 92.88]   \n",
       "1    [120.12, 122.93, 120.16, 120.12, 123.0, 122.93]   \n",
       "2         [46.24, 53.04, 53.04, 46.24, 53.04, 46.08]   \n",
       "3  [107.77, 107.42, 103.53, 103.54, 107.77, 107.7...   \n",
       "4            [32.3, 36.34, 32.3, 32.3, 36.36, 36.34]   \n",
       "\n",
       "                                                   y  \\\n",
       "0   [-17.01, -11.75, -11.75, -17.01, -11.75, -17.01]   \n",
       "1            [60.33, 64.5, 64.5, 60.33, 60.28, 64.5]   \n",
       "2                 [9.3, 9.3, 17.1, 9.3, 17.1, 16.96]   \n",
       "3  [10.18, 16.32, 16.7, 9.3, 8.9, 10.18, 9.3, 10....   \n",
       "4   [-20.64, -11.79, -11.75, -20.64, -20.75, -11.79]   \n",
       "\n",
       "                                               z  \\\n",
       "0                 [6.0, 6.0, 6.0, 6.0, 6.0, 6.0]   \n",
       "1                 [6.0, 6.0, 6.0, 6.0, 6.0, 6.0]   \n",
       "2                 [6.0, 6.0, 6.0, 6.0, 6.0, 6.0]   \n",
       "3  [6.0, 6.0, 6.0, 6.0, 6.0, 6.0, 6.0, 6.0, 6.0]   \n",
       "4                 [6.0, 6.0, 6.0, 6.0, 6.0, 6.0]   \n",
       "\n",
       "                               centroid  \n",
       "0                  (96.74, -14.38, 6.0)  \n",
       "1   (121.543333333, 62.4066666667, 6.0)  \n",
       "2   (49.6133333333, 13.1766666667, 6.0)  \n",
       "3   (105.848888889, 11.9733333333, 6.0)  \n",
       "4  (34.3233333333, -16.2266666667, 6.0)  "
      ]
     },
     "execution_count": 14,
     "metadata": {},
     "output_type": "execute_result"
    }
   ],
   "source": [
    "#this process is to find out the total centroid of each entrance/exit\n",
    "df['mean_x'] = df['x'].apply(np.mean)\n",
    "df['mean_y'] = df['y'].apply(np.mean)\n",
    "df['mean_z'] = df['z'].apply(np.mean)\n",
    "df['centroid'] = df[['mean_x','mean_y','mean_z']].apply(tuple,axis=1)\n",
    "df = df.drop(['mean_x','mean_y','mean_z'],axis=1)\n",
    "df.head()"
   ]
  },
  {
   "cell_type": "code",
   "execution_count": null,
   "metadata": {
    "collapsed": true
   },
   "outputs": [],
   "source": []
  },
  {
   "cell_type": "code",
   "execution_count": 15,
   "metadata": {
    "collapsed": true
   },
   "outputs": [],
   "source": [
    "# Convert to CSV for usage in other files\n",
    "#df.to_csv('entrance_exit_points.csv',index=False)"
   ]
  },
  {
   "cell_type": "code",
   "execution_count": 16,
   "metadata": {
    "collapsed": true
   },
   "outputs": [],
   "source": [
    "#Z value for type polygon ranges upto 24 whereas Z value of entrance/exits goes only upto 6.\n",
    "#Are there no entrances/exits in the floors above that??????"
   ]
  },
  {
   "cell_type": "code",
   "execution_count": 18,
   "metadata": {},
   "outputs": [
    {
     "name": "stderr",
     "output_type": "stream",
     "text": [
      "[NbConvertApp] Converting notebook Buildings_Exploratory.ipynb to script\n",
      "[NbConvertApp] Writing 5337 bytes to Buildings_Exploratory.py\n"
     ]
    }
   ],
   "source": [
    "!jupyter nbconvert --to script Buildings_Exploratory.ipynb"
   ]
  },
  {
   "cell_type": "code",
   "execution_count": null,
   "metadata": {
    "collapsed": true
   },
   "outputs": [],
   "source": []
  }
 ],
 "metadata": {
  "anaconda-cloud": {},
  "kernelspec": {
   "display_name": "Python [conda root]",
   "language": "python",
   "name": "conda-root-py"
  },
  "language_info": {
   "codemirror_mode": {
    "name": "ipython",
    "version": 3
   },
   "file_extension": ".py",
   "mimetype": "text/x-python",
   "name": "python",
   "nbconvert_exporter": "python",
   "pygments_lexer": "ipython3",
   "version": "3.5.3"
  }
 },
 "nbformat": 4,
 "nbformat_minor": 2
}

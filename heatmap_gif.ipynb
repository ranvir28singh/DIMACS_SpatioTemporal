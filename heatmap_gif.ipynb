{
 "cells": [
  {
   "cell_type": "code",
   "execution_count": 1,
   "metadata": {
    "collapsed": true
   },
   "outputs": [],
   "source": [
    "import pandas as pd\n",
    "import numpy as np\n",
    "import matplotlib.pyplot as plt\n",
    "import yaml # If you don't have this package use 'pip install pyyaml' into commandline or terminal\n",
    "import seaborn as sns\n",
    "# Matplotlib Config\n",
    "#%matplotlib inline\n",
    "#plt.style.use('fivethirtyeight')\n",
    "# Turn 'building.yaml' file into a python dictionary using PyYAML \n",
    "with open('Files/building.yaml') as f:\n",
    "    building_data = f.read()\n",
    "    building_data = yaml.load(building_data)\n",
    "    f.close()\n",
    "building = pd.DataFrame(building_data) #building contains only two rows out of which only one(first one) contains actual info\n",
    "building = pd.DataFrame(building['building1'][0])\n",
    "    \n",
    "### Column Names for our dataframe\n",
    "col_names = ['sec', \n",
    "             'agent_id',\n",
    "             'agent_type',\n",
    "             'has_luggage',\n",
    "             'is_disabled',\n",
    "             'X', \n",
    "             'Y',\n",
    "             'Z',\n",
    "             'velocity',\n",
    "             'queue_id',\n",
    "             'lookUp_X',\n",
    "             'lookUp_Y']\n",
    "df1 = pd.read_csv('Files/Agents/thread_0.txt', header=0, names=col_names)\n",
    "df2 = pd.read_csv('Files/Agents/thread_1.txt', header=0, names=col_names)\n",
    "df3 = pd.read_csv('Files/Agents/thread_2.txt', header=0, names=col_names)\n",
    "df4 = pd.read_csv('Files/Agents/thread_3.txt', header=0, names=col_names)\n",
    "df5 = pd.read_csv('Files/Agents/thread_4.txt', header=0, names=col_names)\n",
    "df6 = pd.read_csv('Files/Agents/thread_5.txt', header=0, names=col_names)\n",
    "df7 = pd.read_csv('Files/Agents/thread_6.txt', header=0, names=col_names)\n",
    "df8 = pd.read_csv('Files/Agents/thread_7.txt', header=0, names=col_names)\n",
    "\n",
    "frames = [df1,df2,df3,df4,df5,df6,df7,df8]\n",
    "df = pd.concat(frames)"
   ]
  },
  {
   "cell_type": "code",
   "execution_count": 2,
   "metadata": {
    "collapsed": true
   },
   "outputs": [],
   "source": [
    "df_test = df[df['Z'] >= 0]"
   ]
  },
  {
   "cell_type": "code",
   "execution_count": 3,
   "metadata": {},
   "outputs": [
    {
     "name": "stderr",
     "output_type": "stream",
     "text": [
      "C:\\Users\\Saifi\\AppData\\Local\\Continuum\\Anaconda3\\lib\\site-packages\\ipykernel\\__main__.py:1: SettingWithCopyWarning: \n",
      "A value is trying to be set on a copy of a slice from a DataFrame.\n",
      "Try using .loc[row_indexer,col_indexer] = value instead\n",
      "\n",
      "See the caveats in the documentation: http://pandas.pydata.org/pandas-docs/stable/indexing.html#indexing-view-versus-copy\n",
      "  if __name__ == '__main__':\n",
      "C:\\Users\\Saifi\\AppData\\Local\\Continuum\\Anaconda3\\lib\\site-packages\\ipykernel\\__main__.py:2: SettingWithCopyWarning: \n",
      "A value is trying to be set on a copy of a slice from a DataFrame.\n",
      "Try using .loc[row_indexer,col_indexer] = value instead\n",
      "\n",
      "See the caveats in the documentation: http://pandas.pydata.org/pandas-docs/stable/indexing.html#indexing-view-versus-copy\n",
      "  from ipykernel import kernelapp as app\n"
     ]
    }
   ],
   "source": [
    "df_test['binned_X'] = pd.qcut(df_test['X'],20)\n",
    "df_test['binned_Y'] = pd.qcut(df_test['Y'],20)"
   ]
  },
  {
   "cell_type": "code",
   "execution_count": 92,
   "metadata": {
    "collapsed": true
   },
   "outputs": [],
   "source": [
    "# Generate Images for each T\n",
    "count = 0\n",
    "for t in df_test['sec'].unique():\n",
    "    df_test_group = df_test[df_test['sec'] == t].groupby(['binned_X','binned_Y'],as_index=False).count()\n",
    "    df_test_group = df_test_group[['binned_X','binned_Y','agent_id']]\n",
    "    count += 1\n",
    "    \n",
    "    plt.figure(figsize=(10,10))\n",
    "    img = sns.heatmap(df_test_group.pivot(index='binned_Y',columns='binned_X',values='agent_id'),linewidths=0.2,vmin=0,vmax=250)\n",
    "    plt.tight_layout()\n",
    "    img.figure.text(0.05, 0.1, \"t = \" + str(count), ha ='left', fontsize = 15)\n",
    "    img.get_figure().savefig('heatmap/heatmap' + str(count) + '.png')\n",
    "    plt.close()"
   ]
  },
  {
   "cell_type": "code",
   "execution_count": 91,
   "metadata": {},
   "outputs": [],
   "source": []
  },
  {
   "cell_type": "code",
   "execution_count": 93,
   "metadata": {},
   "outputs": [],
   "source": [
    "# Create GIF\n",
    "\n",
    "import imageio\n",
    "\n",
    "filenames = ['heatmap/heatmap' + str(x) + '.png' for x in range(1,1200)]\n",
    "\n",
    "images = []\n",
    "\n",
    "for filename in filenames:\n",
    "    images.append(imageio.imread(filename))\n",
    "\n",
    "imageio.mimsave('heatmap_by_time.gif', images)"
   ]
  },
  {
   "cell_type": "code",
   "execution_count": null,
   "metadata": {
    "collapsed": true
   },
   "outputs": [],
   "source": []
  }
 ],
 "metadata": {
  "kernelspec": {
   "display_name": "Python [conda root]",
   "language": "python",
   "name": "conda-root-py"
  },
  "language_info": {
   "codemirror_mode": {
    "name": "ipython",
    "version": 3
   },
   "file_extension": ".py",
   "mimetype": "text/x-python",
   "name": "python",
   "nbconvert_exporter": "python",
   "pygments_lexer": "ipython3",
   "version": "3.5.3"
  }
 },
 "nbformat": 4,
 "nbformat_minor": 2
}
